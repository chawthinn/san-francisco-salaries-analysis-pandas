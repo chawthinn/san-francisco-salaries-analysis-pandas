{
 "cells": [
  {
   "cell_type": "markdown",
   "metadata": {},
   "source": [
    "# AML-2203 Advanced Python AI and ML Tools\n",
    "\n",
    "# Assignment#2:\n",
    "\n",
    "Task: Using PANDAS for data analysis\n",
    "\n",
    "* Student Name: Chaw Su Su Thinn\n",
    "\n",
    "* Student ID: 0916347"
   ]
  },
  {
   "cell_type": "markdown",
   "metadata": {},
   "source": [
    "# SF Salaries Exercise \n",
    "\n",
    "Welcome to a quick exercise for you to practice your pandas skills! We will be using the [SF Salaries Dataset](https://www.kaggle.com/kaggle/sf-salaries) from Kaggle! Just follow along and complete the tasks outlined in bold below. The tasks will get harder and harder as you go along."
   ]
  },
  {
   "cell_type": "markdown",
   "metadata": {},
   "source": [
    "**Import pandas as pd**"
   ]
  },
  {
   "cell_type": "code",
   "execution_count": 101,
   "metadata": {
    "collapsed": true
   },
   "outputs": [],
   "source": [
    "import pandas as pd"
   ]
  },
  {
   "cell_type": "markdown",
   "metadata": {},
   "source": [
    "**Read Salaries.csv as a dataframe called sal.**"
   ]
  },
  {
   "cell_type": "code",
   "execution_count": 102,
   "metadata": {
    "collapsed": false
   },
   "outputs": [],
   "source": [
    "file_path = \"../datasets/Salaries347.csv\"\n",
    "\n",
    "sal347 = pd.read_csv(file_path)"
   ]
  },
  {
   "cell_type": "markdown",
   "metadata": {},
   "source": [
    "**Check the head of the DataFrame.**"
   ]
  },
  {
   "cell_type": "code",
   "execution_count": 103,
   "metadata": {
    "collapsed": false
   },
   "outputs": [
    {
     "name": "stdout",
     "output_type": "stream",
     "text": [
      "   Id       EmployeeName                                        JobTitle  \\\n",
      "0   1     NATHANIEL FORD  GENERAL MANAGER-METROPOLITAN TRANSIT AUTHORITY   \n",
      "1   2       GARY JIMENEZ                 CAPTAIN III (POLICE DEPARTMENT)   \n",
      "2   3     ALBERT PARDINI                 CAPTAIN III (POLICE DEPARTMENT)   \n",
      "3   4  CHRISTOPHER CHONG            WIRE ROPE CABLE MAINTENANCE MECHANIC   \n",
      "4   5    PATRICK GARDNER    DEPUTY CHIEF OF DEPARTMENT,(FIRE DEPARTMENT)   \n",
      "\n",
      "     BasePay  OvertimePay   OtherPay  Benefits   TotalPay  TotalPayBenefits  \\\n",
      "0  167411.18         0.00  400184.25       NaN  567595.43         567595.43   \n",
      "1  155966.02    245131.88  137811.38       NaN  538909.28         538909.28   \n",
      "2  212739.13    106088.18   16452.60       NaN  335279.91         335279.91   \n",
      "3   77916.00     56120.71  198306.90       NaN  332343.61         332343.61   \n",
      "4  134401.60      9737.00  182234.59       NaN  326373.19         326373.19   \n",
      "\n",
      "   Year  Notes         Agency  Status  \n",
      "0  2011    NaN  San Francisco     NaN  \n",
      "1  2011    NaN  San Francisco     NaN  \n",
      "2  2011    NaN  San Francisco     NaN  \n",
      "3  2011    NaN  San Francisco     NaN  \n",
      "4  2011    NaN  San Francisco     NaN  \n"
     ]
    }
   ],
   "source": [
    "print(sal347.head())"
   ]
  },
  {
   "cell_type": "markdown",
   "metadata": {},
   "source": [
    "**Use the .info() method to find out how many entries there are.**"
   ]
  },
  {
   "cell_type": "code",
   "execution_count": 104,
   "metadata": {
    "collapsed": false
   },
   "outputs": [
    {
     "name": "stdout",
     "output_type": "stream",
     "text": [
      "<class 'pandas.core.frame.DataFrame'>\n",
      "RangeIndex: 148654 entries, 0 to 148653\n",
      "Data columns (total 13 columns):\n",
      " #   Column            Non-Null Count   Dtype  \n",
      "---  ------            --------------   -----  \n",
      " 0   Id                148654 non-null  int64  \n",
      " 1   EmployeeName      148654 non-null  object \n",
      " 2   JobTitle          148654 non-null  object \n",
      " 3   BasePay           148045 non-null  float64\n",
      " 4   OvertimePay       148650 non-null  float64\n",
      " 5   OtherPay          148650 non-null  float64\n",
      " 6   Benefits          112491 non-null  float64\n",
      " 7   TotalPay          148654 non-null  float64\n",
      " 8   TotalPayBenefits  148654 non-null  float64\n",
      " 9   Year              148654 non-null  int64  \n",
      " 10  Notes             0 non-null       float64\n",
      " 11  Agency            148654 non-null  object \n",
      " 12  Status            0 non-null       float64\n",
      "dtypes: float64(8), int64(2), object(3)\n",
      "memory usage: 14.7+ MB\n"
     ]
    }
   ],
   "source": [
    "sal347.info()"
   ]
  },
  {
   "cell_type": "markdown",
   "metadata": {},
   "source": [
    "**Observations from Dataset**\n",
    "\n",
    "This dataset contains salary records of public employees in San Francisco. Here's what each column means:\n",
    "\n",
    "1. Id – Unique number for each employee record, assigned in order.\n",
    "2. EmployeeName – Full name of the employee. Looks unique, but I’ll check for duplicates later.\n",
    "3. JobTitle – The specific job title or role of the employee.\n",
    "4. BasePay – Base salary (some values are missing).\n",
    "5. OvertimePay – Extra pay from overtime work.\n",
    "6. OtherPay – Additional payments like bonuses or allowances.\n",
    "7. Benefits – Value of benefits provided (lots of missing values here).\n",
    "8. TotalPay – Sum of BasePay, OvertimePay, and OtherPay.\n",
    "9. TotalPayBenefits – TotalPay plus Benefits.\n",
    "10. Year – Year the salary was recorded.\n",
    "11. Notes – Completely empty column with 0 non-null.\n",
    "12. Agency – Refers to “San Francisco” for all records.\n",
    "13. Status – Also completely empty (0 non-null).\n",
    "\n",
    "There are 148,654 records and 13 columns. \n",
    "\n",
    "Most of the key columns are complete, but some like `BasePay`, `OvertimePay`, and especially `Benefits` have missing values. \n",
    "\n",
    "`Notes` and `Status` are fully null, so I will drop these columns later."
   ]
  },
  {
   "cell_type": "code",
   "execution_count": 105,
   "metadata": {},
   "outputs": [
    {
     "name": "stdout",
     "output_type": "stream",
     "text": [
      "Id                       0\n",
      "EmployeeName             0\n",
      "JobTitle                 0\n",
      "BasePay                609\n",
      "OvertimePay              4\n",
      "OtherPay                 4\n",
      "Benefits             36163\n",
      "TotalPay                 0\n",
      "TotalPayBenefits         0\n",
      "Year                     0\n",
      "Notes               148654\n",
      "Agency                   0\n",
      "Status              148654\n",
      "dtype: int64\n"
     ]
    }
   ],
   "source": [
    "# Check null values\n",
    "print(sal347.isnull().sum())"
   ]
  },
  {
   "cell_type": "markdown",
   "metadata": {},
   "source": [
    "**Analysis from missing values**\n",
    "\n",
    "* `BasePay` has 609 missing values. I’ll check those later to decide whether to fill with 0 or drop them.\n",
    "\n",
    "* `OvertimePay` and `OtherPay` are missing in 4 rows each. I’ll look into those rows to see the clear picture.\n",
    "\n",
    "* `Benefits` is missing in over 36,000 rows. Not sure yet if that means no benefits or just not recorded. Will figure that out later.\n",
    "\n",
    "* `Notes` and `Status` are completely empty. I will drop these since it is 100% empty.\n",
    "\n",
    "* The rest of the key fields like `Id`, `EmployeeName`, `JobTitle`, `TotalPay`, `TotalPayBenefits`, `Year`, and `Agency` don’t have any missing values, so they’re good for now."
   ]
  },
  {
   "cell_type": "code",
   "execution_count": 106,
   "metadata": {},
   "outputs": [
    {
     "data": {
      "image/png": "[encoded data removed]",
      "text/plain": [
       "<Figure size 2500x1000 with 2 Axes>"
      ]
     },
     "metadata": {},
     "output_type": "display_data"
    }
   ],
   "source": [
    "import missingno as msno\n",
    "import matplotlib.pyplot as plt\n",
    "\n",
    "# Print missing value matrix\n",
    "msno.matrix(sal347)\n",
    "plt.title('Missing Values Matrix')\n",
    "plt.show()"
   ]
  },
  {
   "cell_type": "markdown",
   "metadata": {},
   "source": [
    "**Analysis from missing value matrix**\n",
    "\n",
    "* I confirmed the missing value patterns using the missing value matrix. \n",
    "\n",
    "* It clearly shows gaps in `BasePay`, `OvertimePay`, `OtherPay`, and especially `Benefits`, just like in the `.isna().sum()` output.\n",
    "\n",
    "* `Notes` and `Status` are completely blank overall.\n",
    "\n",
    "* The rest of the fields are fully populated, but I’ll still review the categorical columns to check for any unknown values."
   ]
  },
  {
   "cell_type": "code",
   "execution_count": 107,
   "metadata": {},
   "outputs": [
    {
     "name": "stdout",
     "output_type": "stream",
     "text": [
      "                  Id        BasePay    OvertimePay       OtherPay  \\\n",
      "count  148654.000000  148045.000000  148650.000000  148650.000000   \n",
      "mean    74327.500000   66325.448840    5066.059886    3648.767297   \n",
      "std     42912.857795   42764.635495   11454.380559    8056.601866   \n",
      "min         1.000000    -166.010000      -0.010000   -7058.590000   \n",
      "25%     37164.250000   33588.200000       0.000000       0.000000   \n",
      "50%     74327.500000   65007.450000       0.000000     811.270000   \n",
      "75%    111490.750000   94691.050000    4658.175000    4236.065000   \n",
      "max    148654.000000  319275.010000  245131.880000  400184.250000   \n",
      "\n",
      "            Benefits       TotalPay  TotalPayBenefits           Year  Notes  \\\n",
      "count  112491.000000  148654.000000     148654.000000  148654.000000    0.0   \n",
      "mean    25007.893151   74768.321972      93692.554811    2012.522643    NaN   \n",
      "std     15402.215858   50517.005274      62793.533483       1.117538    NaN   \n",
      "min       -33.890000    -618.130000       -618.130000    2011.000000    NaN   \n",
      "25%     11535.395000   36168.995000      44065.650000    2012.000000    NaN   \n",
      "50%     28628.620000   71426.610000      92404.090000    2013.000000    NaN   \n",
      "75%     35566.855000  105839.135000     132876.450000    2014.000000    NaN   \n",
      "max     96570.660000  567595.430000     567595.430000    2014.000000    NaN   \n",
      "\n",
      "       Status  \n",
      "count     0.0  \n",
      "mean      NaN  \n",
      "std       NaN  \n",
      "min       NaN  \n",
      "25%       NaN  \n",
      "50%       NaN  \n",
      "75%       NaN  \n",
      "max       NaN  \n"
     ]
    }
   ],
   "source": [
    "# Check summary statistics\n",
    "print(sal347.describe())"
   ]
  },
  {
   "cell_type": "markdown",
   "metadata": {},
   "source": [
    "**Analysis on summary statistics**\n",
    "\n",
    "* `BasePay`, `OvertimePay`, `OtherPay`, and `Benefits` all have some negative values, which shouldn’t happen. I’ll check those rows later to see if they’re errors or adjustments.\n",
    "\n",
    "* `Benefits` only has 112,491 non-null rows as confrimed earlier.\n",
    "\n",
    "* `TotalPay` and `TotalPayBenefits` have  no missing values but they also have negative values.\n",
    "\n",
    "* `Notes` and `Status` are completely empty as confirmed earlier.\n",
    "\n",
    "* `Year` has no missing values. It ranges from 2011 to 2014, which confirms the time span of the dataset."
   ]
  },
  {
   "cell_type": "markdown",
   "metadata": {},
   "source": [
    "**Approach**\n",
    "\n",
    "* I dropped the Notes and Status columns since they were completely empty and not useful for the analysis.\n",
    "\n",
    "* Then, I defined all the pay-related columns `BasePay`, `OvertimePay`, `OtherPay`, `Benefits` and filled their missing values with.\n",
    "\n",
    "* I verified the changes to make sure all key columns are now free of nulls."
   ]
  },
  {
   "cell_type": "code",
   "execution_count": 108,
   "metadata": {},
   "outputs": [
    {
     "name": "stdout",
     "output_type": "stream",
     "text": [
      "Index(['Id', 'EmployeeName', 'JobTitle', 'BasePay', 'OvertimePay', 'OtherPay',\n",
      "       'Benefits', 'TotalPay', 'TotalPayBenefits', 'Year', 'Agency'],\n",
      "      dtype='object')\n"
     ]
    }
   ],
   "source": [
    "# Drop columns with null values\n",
    "cols_to_drop = [\"Notes\", \"Status\"]\n",
    "\n",
    "# Drop the previous columns from original df\n",
    "sal347 = sal347.drop(columns=cols_to_drop)\n",
    "\n",
    "# Verify the columns\n",
    "print(sal347.columns)"
   ]
  },
  {
   "cell_type": "code",
   "execution_count": 109,
   "metadata": {},
   "outputs": [
    {
     "name": "stdout",
     "output_type": "stream",
     "text": [
      "Id                  0\n",
      "EmployeeName        0\n",
      "JobTitle            0\n",
      "BasePay             0\n",
      "OvertimePay         0\n",
      "OtherPay            0\n",
      "Benefits            0\n",
      "TotalPay            0\n",
      "TotalPayBenefits    0\n",
      "Year                0\n",
      "Agency              0\n",
      "dtype: int64\n"
     ]
    }
   ],
   "source": [
    "# Define pay columns\n",
    "pay_cols = ['BasePay', 'OvertimePay', 'OtherPay', 'Benefits']\n",
    "\n",
    "# Fill null values with 0 for each of those columns\n",
    "sal347[pay_cols] = sal347[pay_cols].fillna(0)\n",
    "\n",
    "# Verify null values\n",
    "print(sal347.isnull().sum())"
   ]
  },
  {
   "cell_type": "markdown",
   "metadata": {},
   "source": [
    "**Approach**\n",
    "\n",
    "* Now that there are no null values in any columns, I checked the unique values in the categorical columns.\n",
    "\n",
    "* I used a loop to print both the unique values and their counts for `EmployeeName`, `JobTitle`, and `Agency`."
   ]
  },
  {
   "cell_type": "code",
   "execution_count": 110,
   "metadata": {},
   "outputs": [
    {
     "name": "stdout",
     "output_type": "stream",
     "text": [
      "Unique values in 'EmployeeName': ['NATHANIEL FORD' 'GARY JIMENEZ' 'ALBERT PARDINI' ... 'Charlene D Mccully'\n",
      " 'Not provided' 'Joe Lopez']\n",
      "Unique values count: 110811\n",
      "\n",
      "Unique values in 'JobTitle': ['GENERAL MANAGER-METROPOLITAN TRANSIT AUTHORITY'\n",
      " 'CAPTAIN III (POLICE DEPARTMENT)' 'WIRE ROPE CABLE MAINTENANCE MECHANIC'\n",
      " ... 'Conversion' 'Cashier 3' 'Not provided']\n",
      "Unique values count: 2159\n",
      "\n",
      "Unique values in 'Agency': ['San Francisco']\n",
      "Unique values count: 1\n",
      "\n"
     ]
    }
   ],
   "source": [
    "# Print unique values of categorical columns\n",
    "cat_cols = [\"EmployeeName\", \"JobTitle\", \"Agency\"]\n",
    "\n",
    "for col in cat_cols:\n",
    "    print(f\"Unique values in '{col}': {sal347[col].unique()}\")\n",
    "    print(f\"Unique values count: {sal347[col].nunique()}\")\n",
    "    print()"
   ]
  },
  {
   "cell_type": "markdown",
   "metadata": {},
   "source": [
    "**Analysis from categorical columns**\n",
    "\n",
    "* `EmployeeName` has over 110k unique values, which makes sense since most records are for different people. I also noticed `\"Not provided\"` in the list, so I’ll look into those rows later.\n",
    "\n",
    "* `JobTitle` has 2159 unique values. There’s a mix of all caps and title case, and also `\"Not provided\"` shows up here too.\n",
    "\n",
    "* `Agency` only has one value: `\"San Francisco\"`."
   ]
  },
  {
   "cell_type": "markdown",
   "metadata": {},
   "source": [
    "**Approach**\n",
    "\n",
    "* I filtered the dataset to check for any rows where `EmployeeName` or `JobTitle` is `\"Not provided\"`.\n",
    "\n",
    "* I found a few rows where both of these fields are `\"Not provided\"` and all pay-related columns are 0.\n",
    "\n",
    "* These records also have no useful info in any other columns other than Employee ID.\n",
    "\n",
    "* Since I already had `rows_with_not_provided`, I just dropped those rows using their index with `.drop()`."
   ]
  },
  {
   "cell_type": "code",
   "execution_count": 111,
   "metadata": {},
   "outputs": [
    {
     "name": "stdout",
     "output_type": "stream",
     "text": [
      "            Id  EmployeeName      JobTitle  BasePay  OvertimePay  OtherPay  \\\n",
      "148646  148647  Not provided  Not provided      0.0          0.0       0.0   \n",
      "148650  148651  Not provided  Not provided      0.0          0.0       0.0   \n",
      "148651  148652  Not provided  Not provided      0.0          0.0       0.0   \n",
      "148652  148653  Not provided  Not provided      0.0          0.0       0.0   \n",
      "\n",
      "        Benefits  TotalPay  TotalPayBenefits  Year         Agency  \n",
      "148646       0.0       0.0               0.0  2014  San Francisco  \n",
      "148650       0.0       0.0               0.0  2014  San Francisco  \n",
      "148651       0.0       0.0               0.0  2014  San Francisco  \n",
      "148652       0.0       0.0               0.0  2014  San Francisco  \n"
     ]
    }
   ],
   "source": [
    "# Check rows with values that are not provided\n",
    "rows_with_not_provided = sal347[sal347.isin(['Not provided']).any(axis=1)]\n",
    "print(rows_with_not_provided)"
   ]
  },
  {
   "cell_type": "code",
   "execution_count": 112,
   "metadata": {},
   "outputs": [],
   "source": [
    "# Drop those rows from df\n",
    "sal347 = sal347.drop(index=rows_with_not_provided.index)"
   ]
  },
  {
   "cell_type": "markdown",
   "metadata": {},
   "source": [
    "**Analysis**\n",
    "\n",
    "* These rows don’t carry any meaningful data since all compensation fields are 0 and both `EmployeeName` and `JobTitle` are `\"Not provided\"`.\n",
    "\n",
    "* Since there’s nothing useful in these rows, I plan to drop them from the dataset. They won’t contribute to any insights or analysis."
   ]
  },
  {
   "cell_type": "markdown",
   "metadata": {},
   "source": [
    "**What is the average BasePay ?**"
   ]
  },
  {
   "cell_type": "markdown",
   "metadata": {},
   "source": [
    "**Approach**\n",
    "\n",
    "* I calculated the average `BasePay` using the `.mean()` method on `sal347['BasePay']`.\n",
    "\n",
    "* Then, I double-checked the result by extracting the mean value from `.describe()`."
   ]
  },
  {
   "cell_type": "code",
   "execution_count": 113,
   "metadata": {},
   "outputs": [
    {
     "name": "stdout",
     "output_type": "stream",
     "text": [
      "Average BasePay: $66,055.51\n"
     ]
    }
   ],
   "source": [
    "# Calculate average BasePay\n",
    "average_basepay = sal347['BasePay'].mean()\n",
    "print(f\"Average BasePay: ${average_basepay:,.2f}\")"
   ]
  },
  {
   "cell_type": "code",
   "execution_count": 114,
   "metadata": {},
   "outputs": [
    {
     "name": "stdout",
     "output_type": "stream",
     "text": [
      "66055.50671772621\n"
     ]
    }
   ],
   "source": [
    "# Double-confirmed by using .describe()\n",
    "print(sal347['BasePay'].describe()['mean'])"
   ]
  },
  {
   "cell_type": "markdown",
   "metadata": {},
   "source": [
    "**Answer**\n",
    "\n",
    "* The average `BasePay` is **$66,055.51**.\n",
    "\n",
    "* This value matches with the mean returned by `.describe()` summary statistics."
   ]
  },
  {
   "cell_type": "markdown",
   "metadata": {},
   "source": [
    "**What is the highest amount of OvertimePay in the dataset?**"
   ]
  },
  {
   "cell_type": "markdown",
   "metadata": {},
   "source": [
    "**Approach**\n",
    "\n",
    "* To get the highest amount of `OvertimePay`, I used the `.max()` method on `sal347['OvertimePay']`.\n",
    "\n",
    "* Then I printed the result using f-string formatting `:,.2f` to show the value with commas and two decimal places.\n",
    "\n",
    "* I also double-checked the result by using `.describe()` to confirm that the max value matched."
   ]
  },
  {
   "cell_type": "code",
   "execution_count": 115,
   "metadata": {},
   "outputs": [
    {
     "name": "stdout",
     "output_type": "stream",
     "text": [
      "Highest amount of OvertimePay: $245,131.88\n"
     ]
    }
   ],
   "source": [
    "# Get highest amount of OvertimePay in the dataset\n",
    "highest_overtimepay = sal347['OvertimePay'].max()\n",
    "print(f\"Highest amount of OvertimePay: ${highest_overtimepay:,.2f}\")"
   ]
  },
  {
   "cell_type": "code",
   "execution_count": 116,
   "metadata": {},
   "outputs": [
    {
     "name": "stdout",
     "output_type": "stream",
     "text": [
      "245131.88\n"
     ]
    }
   ],
   "source": [
    "# Double-confirmed by using .describe()\n",
    "print(sal347['OvertimePay'].describe()['max'])"
   ]
  },
  {
   "cell_type": "markdown",
   "metadata": {},
   "source": [
    "**Answer**\n",
    "\n",
    "* The highest amount of `OvertimePay` in the dataset is **\\$245,131.88**.\n",
    "\n",
    "* I confirmed this by using both the `.max()` function and the max value from `.describe()`."
   ]
  },
  {
   "cell_type": "markdown",
   "metadata": {},
   "source": [
    "**What is the job title of  JOSEPH DRISCOLL ? Note: Use all caps, otherwise you may get an answer that doesn't match up (there is also a lowercase Joseph Driscoll).**"
   ]
  },
  {
   "cell_type": "markdown",
   "metadata": {},
   "source": [
    "**Approach**\n",
    "\n",
    "* I declared the employee name as a variable.\n",
    "\n",
    "* I filtered the DataFrame using `.loc[]` to select the row where `EmployeeName` matches the selected name.\n",
    "\n",
    "* Then I accessed the `JobTitle` value using `.values[0]` and printed it with f-string formatting."
   ]
  },
  {
   "cell_type": "code",
   "execution_count": 117,
   "metadata": {},
   "outputs": [
    {
     "name": "stdout",
     "output_type": "stream",
     "text": [
      "    Id     EmployeeName                   JobTitle    BasePay  OvertimePay  \\\n",
      "24  25  JOSEPH DRISCOLL  CAPTAIN, FIRE SUPPRESSION  140546.86     97868.77   \n",
      "\n",
      "    OtherPay  Benefits   TotalPay  TotalPayBenefits  Year         Agency  \n",
      "24  31909.28       0.0  270324.91         270324.91  2011  San Francisco  \n"
     ]
    }
   ],
   "source": [
    "# Declare the employee name\n",
    "selected_employee = 'JOSEPH DRISCOLL'\n",
    "\n",
    "# Select the record of the employee\n",
    "selected_record = sal347.loc[sal347['EmployeeName'] == selected_employee]\n",
    "print(selected_record)"
   ]
  },
  {
   "cell_type": "code",
   "execution_count": 118,
   "metadata": {},
   "outputs": [
    {
     "name": "stdout",
     "output_type": "stream",
     "text": [
      "Job title of JOSEPH DRISCOLL is CAPTAIN, FIRE SUPPRESSION\n"
     ]
    }
   ],
   "source": [
    "# Extract job title and print the result\n",
    "job_title = selected_record['JobTitle'].values[0]\n",
    "print(f\"Job title of {selected_employee} is {job_title}\")"
   ]
  },
  {
   "cell_type": "markdown",
   "metadata": {},
   "source": [
    "**Answer**\n",
    "\n",
    "* The job title of selected employee JOSEPH DRISCOLL is CAPTAIN, FIRE SUPPRESSION."
   ]
  },
  {
   "cell_type": "markdown",
   "metadata": {},
   "source": [
    "**How much does JOSEPH DRISCOLL make (including benefits)?**"
   ]
  },
  {
   "cell_type": "markdown",
   "metadata": {},
   "source": [
    "**Approach**\n",
    "\n",
    "* Since I had already selected the record of JOSEPH DRISCOLL using `.loc[]` in previous step, I reused that `selected_record` to access the `TotalPayBenefits` value.\n",
    "\n",
    "* Then, I used f-string formatting with `:,.2f` to display the result with commas and two decimal places."
   ]
  },
  {
   "cell_type": "code",
   "execution_count": 119,
   "metadata": {
    "collapsed": false
   },
   "outputs": [
    {
     "name": "stdout",
     "output_type": "stream",
     "text": [
      "Total Pay Benefits of JOSEPH DRISCOLL is $270,324.91.\n"
     ]
    }
   ],
   "source": [
    "# Extract total pay including benefits and print the result\n",
    "total_pay = selected_record['TotalPayBenefits'].values[0]\n",
    "print(f\"Total Pay Benefits of {selected_employee} is ${total_pay:,.2f}.\")"
   ]
  },
  {
   "cell_type": "markdown",
   "metadata": {},
   "source": [
    "**Answer**\n",
    "\n",
    "* The total pay including benefits for JOSEPH DRISCOLL is **$270,324.91**."
   ]
  },
  {
   "cell_type": "markdown",
   "metadata": {},
   "source": [
    "**What is the name of highest paid person (including benefits)?**"
   ]
  },
  {
   "cell_type": "markdown",
   "metadata": {},
   "source": [
    "**Approach**\n",
    "\n",
    "* I used `.loc[]` with `.idxmax()` on the `TotalPayBenefits` column to find the index of the highest paid person.\n",
    "\n",
    "* Then I retrieved the `EmployeeName` from that row."
   ]
  },
  {
   "cell_type": "code",
   "execution_count": 120,
   "metadata": {
    "collapsed": false
   },
   "outputs": [
    {
     "name": "stdout",
     "output_type": "stream",
     "text": [
      "The highest paid person (including benefits) is NATHANIEL FORD.\n"
     ]
    }
   ],
   "source": [
    "# Get the index of the highest TotalPayBenefits\n",
    "highest_paid_index = sal347['TotalPayBenefits'].idxmax()\n",
    "\n",
    "# Extract the employee name from selected row\n",
    "highest_paid_name = sal347.loc[highest_paid_index, 'EmployeeName']\n",
    "print(f\"The highest paid person (including benefits) is {highest_paid_name}.\")"
   ]
  },
  {
   "cell_type": "markdown",
   "metadata": {},
   "source": [
    "**Answer**\n",
    "\n",
    "* Based on the result, the highest paid person (including benefits) is **NATHANIEL FORD**."
   ]
  },
  {
   "cell_type": "markdown",
   "metadata": {},
   "source": [
    "**What is the name of lowest paid person (including benefits)? Do you notice something strange about how much he or she is paid?**"
   ]
  },
  {
   "cell_type": "markdown",
   "metadata": {},
   "source": [
    "**Approach**\n",
    "\n",
    "* I used `.idxmin()` on the `TotalPayBenefits` column to get the index of the lowest paid person.\n",
    "\n",
    "* Then I used `.loc[]` to get the `EmployeeName` and check the full row to verify if there is something strange about the value since I noticed that we have negative values while I was viewing the summary stats earlier."
   ]
  },
  {
   "cell_type": "code",
   "execution_count": 121,
   "metadata": {
    "collapsed": false
   },
   "outputs": [
    {
     "name": "stdout",
     "output_type": "stream",
     "text": [
      "Id                                      148654\n",
      "EmployeeName                         Joe Lopez\n",
      "JobTitle            Counselor, Log Cabin Ranch\n",
      "BasePay                                    0.0\n",
      "OvertimePay                                0.0\n",
      "OtherPay                               -618.13\n",
      "Benefits                                   0.0\n",
      "TotalPay                               -618.13\n",
      "TotalPayBenefits                       -618.13\n",
      "Year                                      2014\n",
      "Agency                           San Francisco\n",
      "Name: 148653, dtype: object\n"
     ]
    }
   ],
   "source": [
    "# Get index of the lowest paid person\n",
    "lowest_paid_index = sal347['TotalPayBenefits'].idxmin()\n",
    "\n",
    "# Get the full row\n",
    "lowest_paid_row = sal347.loc[lowest_paid_index]\n",
    "print(lowest_paid_row)"
   ]
  },
  {
   "cell_type": "markdown",
   "metadata": {},
   "source": [
    "**Answer**\n",
    "\n",
    "* Based on the results, the lowest paid person (including benefits) is **Joe Lopez**.\n",
    "\n",
    "* What’s strange is that their `TotalPayBenefits` value is **negative (-$618.13)**, which doesn’t make sense. It could be a data entry error since the other pay columns like `BasePay, OvertimePay, Benefits` are 0."
   ]
  },
  {
   "cell_type": "markdown",
   "metadata": {},
   "source": [
    "**What was the average (mean) BasePay of all employees per year? (2011-2014)?**"
   ]
  },
  {
   "cell_type": "markdown",
   "metadata": {},
   "source": [
    "**Approach**\n",
    "\n",
    "* I grouped the data by `Year` and calculated the average of `BasePay` using `.groupby()` and `.mean()`.\n",
    "\n",
    "* This gives me the mean BasePay for each year from 2011 to 2014."
   ]
  },
  {
   "cell_type": "code",
   "execution_count": 122,
   "metadata": {
    "collapsed": false
   },
   "outputs": [
    {
     "name": "stdout",
     "output_type": "stream",
     "text": [
      "Year\n",
      "2011    63595.956517\n",
      "2012    65436.406857\n",
      "2013    68509.832156\n",
      "2014    66564.421924\n",
      "Name: BasePay, dtype: float64\n"
     ]
    }
   ],
   "source": [
    "# Get mean of BasePay by year\n",
    "average_basepay_per_year = sal347.groupby('Year')['BasePay'].mean()\n",
    "print(average_basepay_per_year)"
   ]
  },
  {
   "cell_type": "code",
   "execution_count": 123,
   "metadata": {},
   "outputs": [
    {
     "name": "stdout",
     "output_type": "stream",
     "text": [
      "2011: $63,595.96\n",
      "2012: $65,436.41\n",
      "2013: $68,509.83\n",
      "2014: $66,564.42\n"
     ]
    }
   ],
   "source": [
    "# Format and print the values in 2 decimals\n",
    "for year, avg in average_basepay_per_year.items():\n",
    "    print(f\"{year}: ${avg:,.2f}\")"
   ]
  },
  {
   "cell_type": "markdown",
   "metadata": {},
   "source": [
    "**Answer**\n",
    "\n",
    "* Based on the result, the average `BasePay` per year is:\n",
    "    ```\n",
    "    Year\n",
    "    2011: $63,595.96\n",
    "    2012: $65,436.41\n",
    "    2013: $68,509.83\n",
    "    2014: $66,564.42\n",
    "    ```"
   ]
  },
  {
   "cell_type": "markdown",
   "metadata": {},
   "source": [
    "**How many unique job titles are there?**"
   ]
  },
  {
   "cell_type": "markdown",
   "metadata": {},
   "source": [
    "**Approach**\n",
    "\n",
    "* I used `.nunique()` on the `JobTitle` column to count how many unique job titles are in the dataset."
   ]
  },
  {
   "cell_type": "code",
   "execution_count": 124,
   "metadata": {
    "collapsed": false
   },
   "outputs": [
    {
     "name": "stdout",
     "output_type": "stream",
     "text": [
      "Number of unique job titles: 2158\n"
     ]
    }
   ],
   "source": [
    "# Get unique values of jobtitle\n",
    "unique_job_titles = sal347['JobTitle'].nunique()\n",
    "print(f\"Number of unique job titles: {unique_job_titles}\")"
   ]
  },
  {
   "cell_type": "markdown",
   "metadata": {},
   "source": [
    "**Answer**\n",
    "\n",
    "* As I observed earlier, there are 2,158 unique job titles in the dataset, since I removed the records that has empty details with \"Not Provided\"."
   ]
  },
  {
   "cell_type": "markdown",
   "metadata": {},
   "source": [
    "**What are the top 5 most common jobs?**"
   ]
  },
  {
   "cell_type": "markdown",
   "metadata": {},
   "source": [
    "**Approach**\n",
    "\n",
    "* I used `.value_counts()` on the `JobTitle` column to count how many times each job appears.\n",
    "\n",
    "* Then I used `.head(5)` to get the top 5 most common job titles."
   ]
  },
  {
   "cell_type": "code",
   "execution_count": 125,
   "metadata": {
    "collapsed": false
   },
   "outputs": [
    {
     "name": "stdout",
     "output_type": "stream",
     "text": [
      "JobTitle\n",
      "Transit Operator                7036\n",
      "Special Nurse                   4389\n",
      "Registered Nurse                3736\n",
      "Public Svc Aide-Public Works    2518\n",
      "Police Officer 3                2421\n",
      "Name: count, dtype: int64\n"
     ]
    }
   ],
   "source": [
    "# Get top 5 jobs from sal347 and their counts\n",
    "top_5_jobs = sal347['JobTitle'].value_counts().head(5)\n",
    "print(top_5_jobs)"
   ]
  },
  {
   "cell_type": "markdown",
   "metadata": {},
   "source": [
    "**Answer**\n",
    "\n",
    "* Based on the result, the top 5 most common job titles in the dataset are:\n",
    "\n",
    "    ```\n",
    "    Transit Operator                7036\n",
    "    Special Nurse                   4389\n",
    "    Registered Nurse                3736\n",
    "    Public Svc Aide-Public Works    2518\n",
    "    Police Officer 3                2421\n",
    "    ```"
   ]
  },
  {
   "cell_type": "markdown",
   "metadata": {},
   "source": [
    "**How many Job Titles were represented by only one person in 2013? (e.g. Job Titles with only one occurence in 2013?)**"
   ]
  },
  {
   "cell_type": "markdown",
   "metadata": {},
   "source": [
    "**Approach**\n",
    "\n",
    "* First, I filtered the dataset for rows where `Year == 2013`.\n",
    "\n",
    "* Then I used `.value_counts()` on the `JobTitle` column to count how many times each job appeared.\n",
    "\n",
    "* Finally, I checked how many job titles had a count of exactly 1."
   ]
  },
  {
   "cell_type": "code",
   "execution_count": 126,
   "metadata": {
    "collapsed": false
   },
   "outputs": [
    {
     "name": "stdout",
     "output_type": "stream",
     "text": [
      "Number of job titles with only one person in 2013: 202\n"
     ]
    }
   ],
   "source": [
    "# Filter dataset for rows where Year is 2013 and count job title occurrences\n",
    "job_counts_2013 = sal347[sal347['Year'] == 2013]['JobTitle'].value_counts()\n",
    "\n",
    "# Count how many job titles appear only once\n",
    "unique_jobs_2013 = (job_counts_2013 == 1).sum()\n",
    "\n",
    "# Print the result\n",
    "print(f\"Number of job titles with only one person in 2013: {unique_jobs_2013}\")"
   ]
  },
  {
   "cell_type": "markdown",
   "metadata": {},
   "source": [
    "**Answer**\n",
    "\n",
    "* Based on the result, there are 202 job titles that were held by only one person in 2013."
   ]
  },
  {
   "cell_type": "markdown",
   "metadata": {},
   "source": [
    "**How many people have the word Chief in their job title? (This is pretty tricky)**"
   ]
  },
  {
   "cell_type": "markdown",
   "metadata": {},
   "source": [
    "**Approach**\n",
    "\n",
    "* Based on what I observed earlier, `JobTitle` values are not consistent since some are in all caps, some in title case, and some mixed.\n",
    "\n",
    "* So to find how many people have `\"Chief\"` in their job title, I used `.str.contains('chief', case=False, na=False)` to catch all case variations.\n",
    "\n",
    "* This makes sure I don’t miss anything like `\"CHIEF OF POLICE\"` or `\"chief tech officer\"`."
   ]
  },
  {
   "cell_type": "code",
   "execution_count": 127,
   "metadata": {
    "collapsed": true
   },
   "outputs": [
    {
     "name": "stdout",
     "output_type": "stream",
     "text": [
      "Number of people with 'Chief' in their job title: 627\n"
     ]
    }
   ],
   "source": [
    "chief_count = sal347['JobTitle'].str.contains('chief', case=False, na=False).sum()\n",
    "print(f\"Number of people with 'Chief' in their job title: {chief_count}\")"
   ]
  },
  {
   "cell_type": "markdown",
   "metadata": {},
   "source": [
    "**Answer**\n",
    "\n",
    "* There are **627** people with `Chief` in their job title.\n",
    "\n",
    "* This includes all variations like `CHIEF`, `Chief`, and `chief`, since I used a case-insensitive match."
   ]
  },
  {
   "cell_type": "markdown",
   "metadata": {},
   "source": [
    "**Is there a correlation between length of the Job Title string and Salary?**"
   ]
  },
  {
   "cell_type": "markdown",
   "metadata": {},
   "source": [
    "**Approach**\n",
    "\n",
    "* I created a new column to store the length of each job title using `.str.len()`.\n",
    "\n",
    "* Then I checked the correlation between job title length`TitleLength` and `TotalPayBenefits` using `.corr()`."
   ]
  },
  {
   "cell_type": "code",
   "execution_count": 128,
   "metadata": {
    "collapsed": false
   },
   "outputs": [],
   "source": [
    "# Create a column for job title length\n",
    "sal347['TitleLength'] = sal347['JobTitle'].str.len()"
   ]
  },
  {
   "cell_type": "code",
   "execution_count": 129,
   "metadata": {
    "collapsed": false
   },
   "outputs": [
    {
     "name": "stdout",
     "output_type": "stream",
     "text": [
      "Correlation: -0.03691962394389061\n"
     ]
    }
   ],
   "source": [
    "# Check the correlation with salary\n",
    "correlation = sal347['TitleLength'].corr(sal347['TotalPayBenefits'])\n",
    "print(f\"Correlation: {correlation}\")"
   ]
  },
  {
   "cell_type": "markdown",
   "metadata": {},
   "source": [
    "**Answer**\n",
    "\n",
    "* The correlation between job title length and total pay including benefits is -0.037.\n",
    "\n",
    "* This shows there's no real correlation. \n",
    "\n",
    "* So, I concluded that the length of the job title doesn’t impact salary in any meaningful way."
   ]
  },
  {
   "cell_type": "markdown",
   "metadata": {},
   "source": [
    "End Of the Assignment !"
   ]
  }
 ],
 "metadata": {
  "kernelspec": {
   "display_name": "Python 3",
   "language": "python",
   "name": "python3"
  },
  "language_info": {
   "codemirror_mode": {
    "name": "ipython",
    "version": 3
   },
   "file_extension": ".py",
   "mimetype": "text/x-python",
   "name": "python",
   "nbconvert_exporter": "python",
   "pygments_lexer": "ipython3",
   "version": "3.12.7"
  }
 },
 "nbformat": 4,
 "nbformat_minor": 0
}
